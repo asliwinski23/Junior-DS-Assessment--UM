{
 "cells": [
  {
   "cell_type": "markdown",
   "id": "1e94f3c1",
   "metadata": {},
   "source": [
    "## Import Dependencies"
   ]
  },
  {
   "cell_type": "code",
   "execution_count": 1,
   "id": "ca290af9",
   "metadata": {},
   "outputs": [],
   "source": [
    "import pandas as pd\n",
    "import numpy as np\n",
    "import seaborn as sns\n",
    "import matplotlib.pyplot as plt\n",
    "import statistics as stats\n",
    "from sklearn import preprocessing"
   ]
  },
  {
   "cell_type": "markdown",
   "id": "7fbc58aa",
   "metadata": {},
   "source": [
    "## Read in file\n",
    "Based on the assessment description, the assumption for this assessment is that train.csv is the only data available that will be used to train and validate the model being built.\n",
    "\n",
    "Once the model is established, the test.csv will be viewed as 'market data' from real applicants that need to be verified for loan eligibility through my proposed automated process\n"
   ]
  },
  {
   "cell_type": "code",
   "execution_count": 2,
   "id": "46a52e74",
   "metadata": {},
   "outputs": [],
   "source": [
    "customer_info = pd.read_csv('../data/train.csv')"
   ]
  },
  {
   "cell_type": "markdown",
   "id": "87c96274",
   "metadata": {},
   "source": [
    "## Clean + Assess"
   ]
  },
  {
   "cell_type": "code",
   "execution_count": 3,
   "id": "2d907ba9",
   "metadata": {},
   "outputs": [],
   "source": [
    "# create copy of customer_info for cleaning\n",
    "customer_info_cleaned = customer_info.copy()"
   ]
  },
  {
   "cell_type": "markdown",
   "id": "3b35f108",
   "metadata": {},
   "source": [
    "remove obviously unecessary columns"
   ]
  },
  {
   "cell_type": "code",
   "execution_count": 4,
   "id": "2f54a005",
   "metadata": {},
   "outputs": [],
   "source": [
    "# drop Loan_ID column\n",
    "customer_info_cleaned.drop(columns=['Loan_ID'], inplace=True)"
   ]
  },
  {
   "cell_type": "markdown",
   "id": "c33af35e",
   "metadata": {},
   "source": [
    "check for null values"
   ]
  },
  {
   "cell_type": "code",
   "execution_count": 5,
   "id": "956cd747",
   "metadata": {},
   "outputs": [
    {
     "name": "stdout",
     "output_type": "stream",
     "text": [
      "<class 'pandas.core.frame.DataFrame'>\n",
      "RangeIndex: 614 entries, 0 to 613\n",
      "Data columns (total 13 columns):\n",
      " #   Column             Non-Null Count  Dtype  \n",
      "---  ------             --------------  -----  \n",
      " 0   Loan_ID            614 non-null    object \n",
      " 1   Gender             601 non-null    object \n",
      " 2   Married            611 non-null    object \n",
      " 3   Dependents         599 non-null    object \n",
      " 4   Education          614 non-null    object \n",
      " 5   Self_Employed      582 non-null    object \n",
      " 6   ApplicantIncome    614 non-null    int64  \n",
      " 7   CoapplicantIncome  614 non-null    float64\n",
      " 8   LoanAmount         592 non-null    float64\n",
      " 9   Loan_Amount_Term   600 non-null    float64\n",
      " 10  Credit_History     564 non-null    float64\n",
      " 11  Property_Area      614 non-null    object \n",
      " 12  Loan_Status        614 non-null    object \n",
      "dtypes: float64(4), int64(1), object(8)\n",
      "memory usage: 62.5+ KB\n"
     ]
    }
   ],
   "source": [
    "customer_info.info()"
   ]
  },
  {
   "cell_type": "markdown",
   "id": "777c0ccc",
   "metadata": {},
   "source": [
    "We notice that a feature with 614 records indicates a column with no null values. We notice some of our features, like Gender, have values below 614 returned non-null records. However, it does not look like any significant amount of data is missing (ex: >50%)"
   ]
  },
  {
   "cell_type": "code",
   "execution_count": 6,
   "id": "d51036b2",
   "metadata": {},
   "outputs": [
    {
     "data": {
      "text/plain": [
       "Loan_ID               0\n",
       "Gender               13\n",
       "Married               3\n",
       "Dependents           15\n",
       "Education             0\n",
       "Self_Employed        32\n",
       "ApplicantIncome       0\n",
       "CoapplicantIncome     0\n",
       "LoanAmount           22\n",
       "Loan_Amount_Term     14\n",
       "Credit_History       50\n",
       "Property_Area         0\n",
       "Loan_Status           0\n",
       "dtype: int64"
      ]
     },
     "execution_count": 6,
     "metadata": {},
     "output_type": "execute_result"
    }
   ],
   "source": [
    "customer_info.isnull().sum()"
   ]
  },
  {
   "cell_type": "markdown",
   "id": "2ccb0a93",
   "metadata": {},
   "source": [
    "There are a few ways we can handle these nulls. To begin, we will drop any rows with null values for features where the number of null values is < 3% of the total rows in our data."
   ]
  },
  {
   "cell_type": "code",
   "execution_count": 7,
   "id": "a3b4ef8e",
   "metadata": {},
   "outputs": [],
   "source": [
    "# create function to drop any rows with nulls values for features where the number of null values is <3% of the total rows in our data\n",
    "def drop_nas(df):\n",
    "    for feature in customer_info_cleaned.columns:\n",
    "        null_sum = customer_info_cleaned[feature].isnull().sum()\n",
    "        if null_sum < len(customer_info_cleaned) * .03 and null_sum != 0:\n",
    "            customer_info_cleaned.dropna(subset = [feature], inplace = True)\n",
    "    return customer_info_cleaned"
   ]
  },
  {
   "cell_type": "code",
   "execution_count": 8,
   "id": "a59c314b",
   "metadata": {},
   "outputs": [],
   "source": [
    "# run drop_nas on clean copy of customer_info\n",
    "customer_info_cleaned = drop_nas(customer_info_cleaned)"
   ]
  },
  {
   "cell_type": "code",
   "execution_count": 9,
   "id": "022046fa",
   "metadata": {},
   "outputs": [
    {
     "name": "stdout",
     "output_type": "stream",
     "text": [
      "<class 'pandas.core.frame.DataFrame'>\n",
      "Int64Index: 573 entries, 0 to 613\n",
      "Data columns (total 12 columns):\n",
      " #   Column             Non-Null Count  Dtype  \n",
      "---  ------             --------------  -----  \n",
      " 0   Gender             573 non-null    object \n",
      " 1   Married            573 non-null    object \n",
      " 2   Dependents         573 non-null    object \n",
      " 3   Education          573 non-null    object \n",
      " 4   Self_Employed      542 non-null    object \n",
      " 5   ApplicantIncome    573 non-null    int64  \n",
      " 6   CoapplicantIncome  573 non-null    float64\n",
      " 7   LoanAmount         553 non-null    float64\n",
      " 8   Loan_Amount_Term   573 non-null    float64\n",
      " 9   Credit_History     524 non-null    float64\n",
      " 10  Property_Area      573 non-null    object \n",
      " 11  Loan_Status        573 non-null    object \n",
      "dtypes: float64(4), int64(1), object(7)\n",
      "memory usage: 58.2+ KB\n"
     ]
    }
   ],
   "source": [
    "# verify results\n",
    "customer_info_cleaned.info()"
   ]
  },
  {
   "cell_type": "markdown",
   "id": "9a7c2e68",
   "metadata": {},
   "source": [
    "Based on the train data, these results are near what we would expect. \n",
    "\n",
    "The features that contained <3% of the original 614 rows were 'Gender' (13 null records), Married (3 null records), 'Dependents' (15 null records), and 'Loan_Amount_term' (14 null records). \n",
    "\n",
    "We can assume some of the nulls for these features happened within the same record. We still have 573 rows, which we are happy with because we are well over the minimum '10 records per feature' criteria."
   ]
  },
  {
   "cell_type": "code",
   "execution_count": 10,
   "id": "e8d74573",
   "metadata": {},
   "outputs": [
    {
     "data": {
      "text/plain": [
       "Gender                0\n",
       "Married               0\n",
       "Dependents            0\n",
       "Education             0\n",
       "Self_Employed        31\n",
       "ApplicantIncome       0\n",
       "CoapplicantIncome     0\n",
       "LoanAmount           20\n",
       "Loan_Amount_Term      0\n",
       "Credit_History       49\n",
       "Property_Area         0\n",
       "Loan_Status           0\n",
       "dtype: int64"
      ]
     },
     "execution_count": 10,
     "metadata": {},
     "output_type": "execute_result"
    }
   ],
   "source": [
    "# check count for remaining nulls\n",
    "customer_info_cleaned.isnull().sum()"
   ]
  },
  {
   "cell_type": "markdown",
   "id": "b13d4739",
   "metadata": {},
   "source": [
    "For the remaining features with Nulls noted above, I will impute their value with a measure of central tendency of their datasets. Before deciding I will look at the spread of the data, while also considering the value in the 'Loan_Status' column.\n",
    "\n",
    "However, we first need to check that the data types of our features are integers or floats. And if not, change as necessary."
   ]
  },
  {
   "cell_type": "code",
   "execution_count": 11,
   "id": "521740a2",
   "metadata": {},
   "outputs": [
    {
     "data": {
      "text/plain": [
       "Gender                object\n",
       "Married               object\n",
       "Dependents            object\n",
       "Education             object\n",
       "Self_Employed         object\n",
       "ApplicantIncome        int64\n",
       "CoapplicantIncome    float64\n",
       "LoanAmount           float64\n",
       "Loan_Amount_Term     float64\n",
       "Credit_History       float64\n",
       "Property_Area         object\n",
       "Loan_Status           object\n",
       "dtype: object"
      ]
     },
     "execution_count": 11,
     "metadata": {},
     "output_type": "execute_result"
    }
   ],
   "source": [
    "# check dtypes\n",
    "customer_info_cleaned.dtypes"
   ]
  },
  {
   "cell_type": "markdown",
   "id": "7fa6c933",
   "metadata": {},
   "source": [
    "The columns that are type object are all columns that should have their values encoded."
   ]
  },
  {
   "cell_type": "code",
   "execution_count": 12,
   "id": "eb38b59c",
   "metadata": {},
   "outputs": [],
   "source": [
    "# create function to encode object values using label_encoder\n",
    "# leave null values for now until we impute their values\n",
    "def column_encoder(data):\n",
    "    # initiate and define label_encoder\n",
    "    label_encoder = preprocessing.LabelEncoder()\n",
    "    # user label_encoder on features of interest\n",
    "    data['Gender'].loc[data['Gender'].notnull()] = label_encoder.fit_transform(data['Gender'].loc[data['Gender'].notnull()])\n",
    "    data['Married'].loc[data['Married'].notnull()] = label_encoder.fit_transform(data['Married'].loc[data['Married'].notnull()])\n",
    "    data['Dependents'].loc[data['Dependents'].notnull()] = label_encoder.fit_transform(data['Dependents'].loc[data['Dependents'].notnull()])\n",
    "    data['Education'].loc[data['Education'].notnull()] = label_encoder.fit_transform(data['Education'].loc[data['Education'].notnull()])   \n",
    "    data['Self_Employed'].loc[data['Self_Employed'].notnull()] = label_encoder.fit_transform(data['Self_Employed'].loc[data['Self_Employed'].notnull()])\n",
    "    data['Property_Area'].loc[data['Property_Area'].notnull()] = label_encoder.fit_transform(data['Property_Area'].loc[data['Property_Area'].notnull()])\n",
    "    data['Loan_Status'].loc[data['Loan_Status'].notnull()] = label_encoder.fit_transform(data['Loan_Status'].loc[data['Loan_Status'].notnull()])\n",
    "    return data"
   ]
  },
  {
   "cell_type": "code",
   "execution_count": 13,
   "id": "6a37e78f",
   "metadata": {},
   "outputs": [
    {
     "name": "stderr",
     "output_type": "stream",
     "text": [
      "C:\\Users\\asliw\\AppData\\Local\\Temp\\ipykernel_28232\\4257256577.py:7: SettingWithCopyWarning: \n",
      "A value is trying to be set on a copy of a slice from a DataFrame\n",
      "\n",
      "See the caveats in the documentation: https://pandas.pydata.org/pandas-docs/stable/user_guide/indexing.html#returning-a-view-versus-a-copy\n",
      "  data['Gender'].loc[data['Gender'].notnull()] = label_encoder.fit_transform(data['Gender'].loc[data['Gender'].notnull()])\n",
      "C:\\Users\\asliw\\AppData\\Local\\Temp\\ipykernel_28232\\4257256577.py:8: SettingWithCopyWarning: \n",
      "A value is trying to be set on a copy of a slice from a DataFrame\n",
      "\n",
      "See the caveats in the documentation: https://pandas.pydata.org/pandas-docs/stable/user_guide/indexing.html#returning-a-view-versus-a-copy\n",
      "  data['Married'].loc[data['Married'].notnull()] = label_encoder.fit_transform(data['Married'].loc[data['Married'].notnull()])\n",
      "C:\\Users\\asliw\\AppData\\Local\\Temp\\ipykernel_28232\\4257256577.py:9: SettingWithCopyWarning: \n",
      "A value is trying to be set on a copy of a slice from a DataFrame\n",
      "\n",
      "See the caveats in the documentation: https://pandas.pydata.org/pandas-docs/stable/user_guide/indexing.html#returning-a-view-versus-a-copy\n",
      "  data['Dependents'].loc[data['Dependents'].notnull()] = label_encoder.fit_transform(data['Dependents'].loc[data['Dependents'].notnull()])\n",
      "C:\\Users\\asliw\\AppData\\Local\\Temp\\ipykernel_28232\\4257256577.py:10: SettingWithCopyWarning: \n",
      "A value is trying to be set on a copy of a slice from a DataFrame\n",
      "\n",
      "See the caveats in the documentation: https://pandas.pydata.org/pandas-docs/stable/user_guide/indexing.html#returning-a-view-versus-a-copy\n",
      "  data['Education'].loc[data['Education'].notnull()] = label_encoder.fit_transform(data['Education'].loc[data['Education'].notnull()])\n",
      "C:\\Users\\asliw\\AppData\\Local\\Temp\\ipykernel_28232\\4257256577.py:11: SettingWithCopyWarning: \n",
      "A value is trying to be set on a copy of a slice from a DataFrame\n",
      "\n",
      "See the caveats in the documentation: https://pandas.pydata.org/pandas-docs/stable/user_guide/indexing.html#returning-a-view-versus-a-copy\n",
      "  data['Self_Employed'].loc[data['Self_Employed'].notnull()] = label_encoder.fit_transform(data['Self_Employed'].loc[data['Self_Employed'].notnull()])\n",
      "C:\\Users\\asliw\\AppData\\Local\\Temp\\ipykernel_28232\\4257256577.py:12: SettingWithCopyWarning: \n",
      "A value is trying to be set on a copy of a slice from a DataFrame\n",
      "\n",
      "See the caveats in the documentation: https://pandas.pydata.org/pandas-docs/stable/user_guide/indexing.html#returning-a-view-versus-a-copy\n",
      "  data['Property_Area'].loc[data['Property_Area'].notnull()] = label_encoder.fit_transform(data['Property_Area'].loc[data['Property_Area'].notnull()])\n",
      "C:\\Users\\asliw\\AppData\\Local\\Temp\\ipykernel_28232\\4257256577.py:13: SettingWithCopyWarning: \n",
      "A value is trying to be set on a copy of a slice from a DataFrame\n",
      "\n",
      "See the caveats in the documentation: https://pandas.pydata.org/pandas-docs/stable/user_guide/indexing.html#returning-a-view-versus-a-copy\n",
      "  data['Loan_Status'].loc[data['Loan_Status'].notnull()] = label_encoder.fit_transform(data['Loan_Status'].loc[data['Loan_Status'].notnull()])\n"
     ]
    }
   ],
   "source": [
    "# run function\n",
    "customer_info_cleaned = column_encoder(customer_info_cleaned)"
   ]
  },
  {
   "cell_type": "markdown",
   "id": "0c13fc37",
   "metadata": {},
   "source": [
    "Results of the column_encoder function are: <br>\n",
    "**'Gender'**: Female = 0, Male = 1 <br>\n",
    "**'Married'**: No = 0, Yes = 1 <br>\n",
    "**'Dependents'**: 0 = 0, 1 = 1, 2 = 2, 3+ = 3 <br>\n",
    "**'Education'**: Graduate = 0, Not Graduate = 1 <br>\n",
    "**'Self Employed'**: No = 0, Yes = 1 <br>\n",
    "**'Property_Area'**: Rural = 0, Semi-Urban = 1, Urban = 2 <br>\n",
    "**'Loan_Status'**: N = 0, Y = 1 <br>\n",
    "\n",
    "I chose Label Encoding because it encodes in alphabetical order and most of our data only have 2 categories. However, 'Dependents' does actually have an associated order of dependents claimed on a customer application, which the label encoder preserves. Additionally, 'Property Area' has an implied order of population density. Having rural as the lowest value and Urban as highest is a good representation for our data."
   ]
  },
  {
   "cell_type": "code",
   "execution_count": 14,
   "id": "9e421d84",
   "metadata": {},
   "outputs": [],
   "source": [
    "# dtypes are still objects, change to int\n",
    "columns = ['Gender','Married','Dependents','Education','Self_Employed','Property_Area','Loan_Status']\n",
    "customer_info_cleaned[columns] = customer_info_cleaned[columns].apply(pd.to_numeric, errors='coerce')"
   ]
  },
  {
   "cell_type": "code",
   "execution_count": 15,
   "id": "5af44d15",
   "metadata": {},
   "outputs": [
    {
     "name": "stdout",
     "output_type": "stream",
     "text": [
      "0    0.0\n",
      "Name: Self_Employed, dtype: float64\n",
      "0    0.0\n",
      "Name: Self_Employed, dtype: float64\n"
     ]
    }
   ],
   "source": [
    "# impute null values for 'Self_Employed' based on mode for 'Loan_Status' 1 and 0\n",
    "# mode for non-eligible applicants\n",
    "print(customer_info_cleaned['Self_Employed'].loc[customer_info_cleaned['Loan_Status'] == 0].mode())\n",
    "# mode for eligible applicants\n",
    "print(customer_info_cleaned['Self_Employed'].loc[customer_info_cleaned['Loan_Status'] == 1].mode())"
   ]
  },
  {
   "cell_type": "code",
   "execution_count": 16,
   "id": "1d1bf941",
   "metadata": {},
   "outputs": [
    {
     "data": {
      "image/png": "[encoded data removed]",
      "text/plain": [
       "<Figure size 640x480 with 1 Axes>"
      ]
     },
     "metadata": {},
     "output_type": "display_data"
    }
   ],
   "source": [
    "x = customer_info_cleaned['Self_Employed'].loc[customer_info_cleaned['Loan_Status']==1]\n",
    "y = customer_info_cleaned['Self_Employed'].loc[customer_info_cleaned['Loan_Status']==0]\n",
    "\n",
    "plt.hist(x, label='Eligible')\n",
    "plt.hist(y, label='Not Eligible')\n",
    "plt.legend(loc='upper right')\n",
    "plt.title(\"Distribution of Self Employed Home Loan Applicants\")\n",
    "plt.ylabel(\"Number of Applicants\")\n",
    "plt.xlabel(\"Not Self Employed (0) or Self Employed (1)\")\n",
    "plt.show()"
   ]
  },
  {
   "cell_type": "markdown",
   "id": "30f19753",
   "metadata": {},
   "source": [
    "The mode is 0, or *not self-employed* for both eligible and non-eligible home loan applicants. So, we will impute any nulls for this column with 0.\n",
    "\n",
    "According to our histogram, only ~17% of the data contains applicants who are Self_Employed."
   ]
  },
  {
   "cell_type": "code",
   "execution_count": 17,
   "id": "68cbc35a",
   "metadata": {},
   "outputs": [],
   "source": [
    "# for both elibigle and non-eligible loan applicants, change Self_Employed nulls to 0\n",
    "customer_info_cleaned['Self_Employed'].fillna(0, inplace=True)"
   ]
  },
  {
   "cell_type": "markdown",
   "id": "9afb8250",
   "metadata": {},
   "source": [
    "Now, we will look at spread for 'LoanAmount' to determine the best measure of central tendency to impute nulls with."
   ]
  },
  {
   "cell_type": "code",
   "execution_count": 18,
   "id": "62744259",
   "metadata": {},
   "outputs": [
    {
     "data": {
      "image/png": "[encoded data removed]",
      "text/plain": [
       "<Figure size 640x480 with 1 Axes>"
      ]
     },
     "metadata": {},
     "output_type": "display_data"
    }
   ],
   "source": [
    "# look at distribution for 'LoanAmount' by eligibility\n",
    "x = customer_info_cleaned['LoanAmount'].loc[customer_info_cleaned['Loan_Status']==1]\n",
    "y = customer_info_cleaned['LoanAmount'].loc[customer_info_cleaned['Loan_Status']==0]\n",
    "\n",
    "\n",
    "plt.hist(x, alpha=0.5,label='Eligible')\n",
    "plt.hist(y, alpha=0.5,label='Not Eligible')\n",
    "plt.legend(loc='upper right')\n",
    "plt.title('Loan Amount Requested by Applicant Eligibility')\n",
    "plt.xlabel('Loan Amount (thousands, USD)')\n",
    "plt.ylabel('Frequency')\n",
    "plt.show()"
   ]
  },
  {
   "cell_type": "markdown",
   "id": "3cb446f6",
   "metadata": {},
   "source": [
    "Key insights from the histograms above are: <br>\n",
    "- Eligible home loan applicants and Not Eligible applicants have a very similar distribution of loan amounts\n",
    "- Both histograms are skewed to the right, which likely means their means are higher than is what is actually representative of both groups' home loan requests\n",
    "- There are clear peaks in the data between 75-150 for both groups\n",
    "\n",
    "Median will be the best measure of central tendency as this data is skewed and is not categorical."
   ]
  },
  {
   "cell_type": "code",
   "execution_count": 19,
   "id": "62af0e04",
   "metadata": {},
   "outputs": [
    {
     "name": "stdout",
     "output_type": "stream",
     "text": [
      "128.0\n",
      "130.5\n",
      "126.0\n"
     ]
    }
   ],
   "source": [
    "# determine if we need to break median out by Eligible or Not Eligible groups\n",
    "loan_amount_median = customer_info_cleaned['LoanAmount'].median()\n",
    "loan_amount_not_eligible_median = customer_info_cleaned['LoanAmount'].loc[customer_info_cleaned['Loan_Status']==0].median()\n",
    "loan_amount_eligible_median = customer_info_cleaned['LoanAmount'].loc[customer_info_cleaned['Loan_Status']==1].median()\n",
    "print(loan_amount_median)\n",
    "print(loan_amount_not_eligible_median)\n",
    "print(loan_amount_eligible_median)"
   ]
  },
  {
   "cell_type": "markdown",
   "id": "47cfbfa8",
   "metadata": {},
   "source": [
    "The medians are quite close for these groups, so we do not need to break out by Eligible vs Non-Eligible"
   ]
  },
  {
   "cell_type": "code",
   "execution_count": 20,
   "id": "712fdc92",
   "metadata": {},
   "outputs": [],
   "source": [
    "# impute nulls for 'LoanAmount' with median for Not Eligible and Eligible applicants\n",
    "# for eligible applicants\n",
    "loan_amount_eligible_median = customer_info_cleaned['LoanAmount'].median()\n",
    "customer_info_cleaned['LoanAmount'].fillna(loan_amount_median, inplace=True)"
   ]
  },
  {
   "cell_type": "markdown",
   "id": "4b75219f",
   "metadata": {},
   "source": [
    "Lastly, for our columns with nulls, we will look at spread for 'Credit_History' to determine the best measure of central tendency to impute nulls with."
   ]
  },
  {
   "cell_type": "code",
   "execution_count": null,
   "id": "1d3b668b",
   "metadata": {},
   "outputs": [],
   "source": []
  }
 ],
 "metadata": {
  "kernelspec": {
   "display_name": "Python 3 (ipykernel)",
   "language": "python",
   "name": "python3"
  },
  "language_info": {
   "codemirror_mode": {
    "name": "ipython",
    "version": 3
   },
   "file_extension": ".py",
   "mimetype": "text/x-python",
   "name": "python",
   "nbconvert_exporter": "python",
   "pygments_lexer": "ipython3",
   "version": "3.9.13"
  }
 },
 "nbformat": 4,
 "nbformat_minor": 5
}
