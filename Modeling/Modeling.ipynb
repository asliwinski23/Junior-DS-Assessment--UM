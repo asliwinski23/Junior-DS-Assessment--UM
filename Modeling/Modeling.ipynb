{
 "cells": [
  {
   "cell_type": "markdown",
   "id": "d136ee01",
   "metadata": {},
   "source": [
    "## 1. Import Dependencies"
   ]
  },
  {
   "cell_type": "code",
   "execution_count": 62,
   "id": "b1d15b82",
   "metadata": {},
   "outputs": [
    {
     "name": "stderr",
     "output_type": "stream",
     "text": [
      "pandas.Int64Index is deprecated and will be removed from pandas in a future version. Use pandas.Index with the appropriate dtype instead.\n"
     ]
    }
   ],
   "source": [
    "import pandas as pd\n",
    "import numpy as np\n",
    "import seaborn as sns\n",
    "import matplotlib.pyplot as plt\n",
    "import statistics as stats\n",
    "from sklearn import preprocessing\n",
    "import plotly.express as px\n",
    "from string import ascii_letters\n",
    "import numpy as np\n",
    "from sklearn.model_selection import train_test_split\n",
    "from sklearn.linear_model import LogisticRegression\n",
    "from sklearn.ensemble import RandomForestClassifier\n",
    "from sklearn.preprocessing import MinMaxScaler\n",
    "from sklearn.compose import make_column_transformer\n",
    "from sklearn.metrics import accuracy_score, precision_score, recall_score, f1_score, roc_auc_score\n",
    "from sklearn.base import clone\n",
    "import shap\n",
    "import xgboost"
   ]
  },
  {
   "cell_type": "markdown",
   "id": "77747d94",
   "metadata": {},
   "source": [
    "## 2. Import cleaned train dataset"
   ]
  },
  {
   "cell_type": "code",
   "execution_count": 2,
   "id": "3d68fca0",
   "metadata": {},
   "outputs": [],
   "source": [
    "df = pd.read_csv('../data/train_cleaned.csv')"
   ]
  },
  {
   "cell_type": "markdown",
   "id": "e0e080b0",
   "metadata": {},
   "source": [
    "## 3. Remove columns or record that could be useful for summary, but will not work as model inputs to predict eligibility for home loans"
   ]
  },
  {
   "cell_type": "code",
   "execution_count": 3,
   "id": "f36d231d",
   "metadata": {},
   "outputs": [
    {
     "data": {
      "text/html": [
       "<div>\n",
       "<style scoped>\n",
       "    .dataframe tbody tr th:only-of-type {\n",
       "        vertical-align: middle;\n",
       "    }\n",
       "\n",
       "    .dataframe tbody tr th {\n",
       "        vertical-align: top;\n",
       "    }\n",
       "\n",
       "    .dataframe thead th {\n",
       "        text-align: right;\n",
       "    }\n",
       "</style>\n",
       "<table border=\"1\" class=\"dataframe\">\n",
       "  <thead>\n",
       "    <tr style=\"text-align: right;\">\n",
       "      <th></th>\n",
       "      <th>Married</th>\n",
       "      <th>Dependents</th>\n",
       "      <th>Education</th>\n",
       "      <th>Self_Employed</th>\n",
       "      <th>Loan_Amount_Term_Months</th>\n",
       "      <th>Credit_History</th>\n",
       "      <th>Property_Area</th>\n",
       "      <th>Loan_Status</th>\n",
       "      <th>Applicant_Income(total yearly)_to_Loan_Amount(total)</th>\n",
       "      <th>Coapplicant</th>\n",
       "    </tr>\n",
       "  </thead>\n",
       "  <tbody>\n",
       "    <tr>\n",
       "      <th>0</th>\n",
       "      <td>0</td>\n",
       "      <td>0</td>\n",
       "      <td>0</td>\n",
       "      <td>0.0</td>\n",
       "      <td>360.0</td>\n",
       "      <td>1.0</td>\n",
       "      <td>2</td>\n",
       "      <td>1</td>\n",
       "      <td>0.548344</td>\n",
       "      <td>0</td>\n",
       "    </tr>\n",
       "    <tr>\n",
       "      <th>1</th>\n",
       "      <td>1</td>\n",
       "      <td>1</td>\n",
       "      <td>0</td>\n",
       "      <td>0.0</td>\n",
       "      <td>360.0</td>\n",
       "      <td>1.0</td>\n",
       "      <td>0</td>\n",
       "      <td>0</td>\n",
       "      <td>0.571031</td>\n",
       "      <td>1</td>\n",
       "    </tr>\n",
       "    <tr>\n",
       "      <th>2</th>\n",
       "      <td>1</td>\n",
       "      <td>0</td>\n",
       "      <td>0</td>\n",
       "      <td>1.0</td>\n",
       "      <td>360.0</td>\n",
       "      <td>1.0</td>\n",
       "      <td>2</td>\n",
       "      <td>1</td>\n",
       "      <td>0.545455</td>\n",
       "      <td>0</td>\n",
       "    </tr>\n",
       "    <tr>\n",
       "      <th>3</th>\n",
       "      <td>1</td>\n",
       "      <td>0</td>\n",
       "      <td>1</td>\n",
       "      <td>0.0</td>\n",
       "      <td>360.0</td>\n",
       "      <td>1.0</td>\n",
       "      <td>2</td>\n",
       "      <td>1</td>\n",
       "      <td>0.494100</td>\n",
       "      <td>1</td>\n",
       "    </tr>\n",
       "    <tr>\n",
       "      <th>4</th>\n",
       "      <td>0</td>\n",
       "      <td>0</td>\n",
       "      <td>0</td>\n",
       "      <td>0.0</td>\n",
       "      <td>360.0</td>\n",
       "      <td>1.0</td>\n",
       "      <td>2</td>\n",
       "      <td>1</td>\n",
       "      <td>0.510638</td>\n",
       "      <td>0</td>\n",
       "    </tr>\n",
       "    <tr>\n",
       "      <th>...</th>\n",
       "      <td>...</td>\n",
       "      <td>...</td>\n",
       "      <td>...</td>\n",
       "      <td>...</td>\n",
       "      <td>...</td>\n",
       "      <td>...</td>\n",
       "      <td>...</td>\n",
       "      <td>...</td>\n",
       "      <td>...</td>\n",
       "      <td>...</td>\n",
       "    </tr>\n",
       "    <tr>\n",
       "      <th>568</th>\n",
       "      <td>0</td>\n",
       "      <td>0</td>\n",
       "      <td>0</td>\n",
       "      <td>0.0</td>\n",
       "      <td>360.0</td>\n",
       "      <td>1.0</td>\n",
       "      <td>0</td>\n",
       "      <td>1</td>\n",
       "      <td>0.490141</td>\n",
       "      <td>0</td>\n",
       "    </tr>\n",
       "    <tr>\n",
       "      <th>569</th>\n",
       "      <td>1</td>\n",
       "      <td>3</td>\n",
       "      <td>0</td>\n",
       "      <td>0.0</td>\n",
       "      <td>180.0</td>\n",
       "      <td>1.0</td>\n",
       "      <td>0</td>\n",
       "      <td>1</td>\n",
       "      <td>1.231800</td>\n",
       "      <td>0</td>\n",
       "    </tr>\n",
       "    <tr>\n",
       "      <th>570</th>\n",
       "      <td>1</td>\n",
       "      <td>1</td>\n",
       "      <td>0</td>\n",
       "      <td>0.0</td>\n",
       "      <td>360.0</td>\n",
       "      <td>1.0</td>\n",
       "      <td>2</td>\n",
       "      <td>1</td>\n",
       "      <td>0.394245</td>\n",
       "      <td>1</td>\n",
       "    </tr>\n",
       "    <tr>\n",
       "      <th>571</th>\n",
       "      <td>1</td>\n",
       "      <td>2</td>\n",
       "      <td>0</td>\n",
       "      <td>0.0</td>\n",
       "      <td>360.0</td>\n",
       "      <td>1.0</td>\n",
       "      <td>2</td>\n",
       "      <td>1</td>\n",
       "      <td>0.486610</td>\n",
       "      <td>0</td>\n",
       "    </tr>\n",
       "    <tr>\n",
       "      <th>572</th>\n",
       "      <td>0</td>\n",
       "      <td>0</td>\n",
       "      <td>0</td>\n",
       "      <td>1.0</td>\n",
       "      <td>360.0</td>\n",
       "      <td>0.0</td>\n",
       "      <td>1</td>\n",
       "      <td>0</td>\n",
       "      <td>0.413504</td>\n",
       "      <td>0</td>\n",
       "    </tr>\n",
       "  </tbody>\n",
       "</table>\n",
       "<p>573 rows × 10 columns</p>\n",
       "</div>"
      ],
      "text/plain": [
       "     Married  Dependents  Education  Self_Employed  Loan_Amount_Term_Months  \\\n",
       "0          0           0          0            0.0                    360.0   \n",
       "1          1           1          0            0.0                    360.0   \n",
       "2          1           0          0            1.0                    360.0   \n",
       "3          1           0          1            0.0                    360.0   \n",
       "4          0           0          0            0.0                    360.0   \n",
       "..       ...         ...        ...            ...                      ...   \n",
       "568        0           0          0            0.0                    360.0   \n",
       "569        1           3          0            0.0                    180.0   \n",
       "570        1           1          0            0.0                    360.0   \n",
       "571        1           2          0            0.0                    360.0   \n",
       "572        0           0          0            1.0                    360.0   \n",
       "\n",
       "     Credit_History  Property_Area  Loan_Status  \\\n",
       "0               1.0              2            1   \n",
       "1               1.0              0            0   \n",
       "2               1.0              2            1   \n",
       "3               1.0              2            1   \n",
       "4               1.0              2            1   \n",
       "..              ...            ...          ...   \n",
       "568             1.0              0            1   \n",
       "569             1.0              0            1   \n",
       "570             1.0              2            1   \n",
       "571             1.0              2            1   \n",
       "572             0.0              1            0   \n",
       "\n",
       "     Applicant_Income(total yearly)_to_Loan_Amount(total)  Coapplicant  \n",
       "0                                             0.548344               0  \n",
       "1                                             0.571031               1  \n",
       "2                                             0.545455               0  \n",
       "3                                             0.494100               1  \n",
       "4                                             0.510638               0  \n",
       "..                                                 ...             ...  \n",
       "568                                           0.490141               0  \n",
       "569                                           1.231800               0  \n",
       "570                                           0.394245               1  \n",
       "571                                           0.486610               0  \n",
       "572                                           0.413504               0  \n",
       "\n",
       "[573 rows x 10 columns]"
      ]
     },
     "execution_count": 3,
     "metadata": {},
     "output_type": "execute_result"
    }
   ],
   "source": [
    "# remove gender columns\n",
    "df.drop(columns=['Gender'])"
   ]
  },
  {
   "cell_type": "markdown",
   "id": "55d41849",
   "metadata": {},
   "source": [
    "Gender was interesting in our summary to understand if it can somehow be an indicator is someone is eligible or not for a home loan. Yes, is it illegal to discriminate based on this demographic feature, but most lenders are not nefarious. So, if Gender was determined to be important it would likely be due to a relationship with a different feature. \n",
    "\n",
    "A similar idea to the phenomenom where increased crimes is also when we see increased ice cream sales... not because people are stealing ice cream, but because more crime happens in summer!\n",
    "\n",
    "Lastly, Gender is highly correlated with the Married feature, which would be likely to throw off our modeling results and how we interpret them."
   ]
  },
  {
   "cell_type": "markdown",
   "id": "1f5cd67f",
   "metadata": {},
   "source": [
    "## 4. Creating Functions for Modeling\n",
    "### 4a) Train Test Split"
   ]
  },
  {
   "cell_type": "code",
   "execution_count": 4,
   "id": "2a241673",
   "metadata": {},
   "outputs": [],
   "source": [
    "# test train split function with scaling\n",
    "# test train split function\n",
    "def set_train_test(data, input_seed, pct_test):\n",
    "    \"\"\"Returns train_df (pd.DataFrame), test_df (pd.DataFrame) which are randomly split training and testing data.\n",
    "\n",
    "    Keyword arguments:\n",
    "    data (pd.DataFrame) -- All the data, must include all features that you want to look at and also target.\n",
    "        Optionally, can include other random columns.\n",
    "    input_seed (int) -- seed for randomization.\n",
    "    pct_test (float) -- must be between 0 and 1 inclusive. The percent of data used for testing.\n",
    "    \"\"\"\n",
    "    train_df, test_df = train_test_split(\n",
    "        data,\n",
    "        test_size = pct_test, \n",
    "        random_state = input_seed\n",
    "    )\n",
    "    \n",
    "    return train_df, test_df"
   ]
  },
  {
   "cell_type": "markdown",
   "id": "89f15760",
   "metadata": {},
   "source": [
    "### 4b) Outline model stats"
   ]
  },
  {
   "cell_type": "code",
   "execution_count": 5,
   "id": "f1f31dbe",
   "metadata": {},
   "outputs": [],
   "source": [
    "def helper_acc_stats(y_actual_test, y_pred_test, model_name, features):\n",
    "    \"\"\"Returns model_stats (pd.DataFrame) which contains performance data for the model.\n",
    "\n",
    "    Keyword arguments:\n",
    "    y_actual (pd.Series or numpy.ndarray) -- the actual y values.\n",
    "    y_pred (pd.Series or numpy.ndarray) -- the predicted y values.\n",
    "    model_name (str) -- what you want to call the model. it will be saved in a csv later.\n",
    "    features (list) -- list of the column names used in this model to create the predictions.\n",
    "    \"\"\"\n",
    "    \n",
    "    # test metrics\n",
    "    test_accuracy = accuracy_score(y_actual_test, y_pred_test) # real y goes first, predicted y goes second\n",
    "    test_precision = precision_score(y_actual_test, y_pred_test)\n",
    "    test_recall = recall_score(y_actual_test, y_pred_test)\n",
    "    test_f1 = f1_score(y_actual_test, y_pred_test)\n",
    "    test_roc_auc = roc_auc_score(y_actual_test, y_pred_test)\n",
    "\n",
    "    # make a dataframe with model results used to save results into a CSV\n",
    "    model_stats = pd.DataFrame( \n",
    "            {\n",
    "                'model_name':model_name, # this is the model type I testing\n",
    "                'features':[features], \n",
    "                'test_accuracy':test_accuracy,\n",
    "                'test_precision':test_precision,\n",
    "                'test_recall':test_recall,\n",
    "                'test_f1':test_f1,\n",
    "                'test_roc_auc':test_roc_auc\n",
    "            }\n",
    "    )\n",
    "    return model_stats\n",
    "\n",
    "# write stats to a csv\n",
    "def helper_write(stats, file_path):\n",
    "    try: # try means it will \"try\" the following code. if it results in an error, then it will stop and jump to except\n",
    "        df_results = pd.read_csv(file_path) # this returns an error if results.csv isn't an actual file. \n",
    "        # if there is df_results, then add new results to it.\n",
    "\n",
    "        df_results = pd.concat([df_results, stats])\n",
    "        df_results.to_csv(file_path, index=False)\n",
    "    except:\n",
    "        print(f'There is no CSV called {file_path}')\n",
    "        stats.to_csv(file_path, index=False)"
   ]
  },
  {
   "cell_type": "markdown",
   "id": "1c332ef8",
   "metadata": {},
   "source": [
    "### 4c) Outline how to evaluate model, for forward step feature selection, testing, and validation"
   ]
  },
  {
   "cell_type": "code",
   "execution_count": 6,
   "id": "a3201131",
   "metadata": {},
   "outputs": [],
   "source": [
    "def evaluate_model(input_name, input_model, training_data, testing_data, features, target):\n",
    "    \"\"\"Writes test results of a model using training and testing data with features and a target.\n",
    "\n",
    "    Keyword arguments:\n",
    "    input_name (str) -- what you want to call the model. it will be saved in a csv later.\n",
    "    input_model (sklearn model) -- model.\n",
    "    training_data (pd.DataFrame)\n",
    "    testing_data (pd.DataFrame)\n",
    "    features (list) -- list of the column names used in this model to create the predictions.\n",
    "    features (str) -- name of column that we want to predict.\n",
    "    \"\"\"\n",
    "    \n",
    "    # set training/test X/y\n",
    "    X_train = training_data[features]\n",
    "    y_train = training_data[target]\n",
    "    X_test = testing_data[features]\n",
    "    y_test = testing_data[target]\n",
    "    \n",
    "    # fit the model that was passed in\n",
    "    # model = input_model()\n",
    "    model = clone(input_model) #testing\n",
    "    model.fit(X_train,y_train)\n",
    "    \n",
    "    # get predictions on the test data\n",
    "    y_test_pred = model.predict(X_test)\n",
    "    \n",
    "    # generate stats (dataframe) of the accuracy, precision, recall, f1, and roc auc\n",
    "    stats = helper_acc_stats(\n",
    "        y_actual_test = y_test, \n",
    "        y_pred_test = y_test_pred,\n",
    "        model_name = input_name, \n",
    "        features = features,\n",
    "    )\n",
    "    # write the stats to a csv so we can look at\n",
    "    helper_write(stats = stats, file_path = 'results.csv')\n",
    "\n",
    "    return model"
   ]
  },
  {
   "cell_type": "markdown",
   "id": "1ddf4fef",
   "metadata": {},
   "source": [
    "### 4d) Feature Selection + Run Model"
   ]
  },
  {
   "cell_type": "code",
   "execution_count": 7,
   "id": "d261fad1",
   "metadata": {},
   "outputs": [],
   "source": [
    "def forward_selection(model, data, all_feats, target, model_name):\n",
    "    \n",
    "    # set train/test split\n",
    "    train_df, test_df = set_train_test(data = data, input_seed = 1, pct_test = 0.2)\n",
    "    \n",
    "    best_model_feats = [] # stores best model feats\n",
    "    for i in range(len(all_feats)):\n",
    "        \n",
    "        prop_feats = [] # proposed feats to add\n",
    "        best_model_roc_auc = -999999999999\n",
    "        \n",
    "        for c in all_feats:\n",
    "            # if the feat that we are considering adding is already in our current best model, then skip\n",
    "            if c in best_model_feats: \n",
    "                continue\n",
    "\n",
    "            # this is a list of the features we are going to test for this iteration\n",
    "            feats_to_test = best_model_feats.copy()\n",
    "            feats_to_test.append(c)\n",
    "\n",
    "            fitted_model = evaluate_model(model_name, model, train_df, test_df, feats_to_test, target)\n",
    "            \n",
    "            y_pred = fitted_model.predict(test_df[feats_to_test])\n",
    "            y_actual = test_df[target]\n",
    "\n",
    "            stats = helper_acc_stats(y_actual, y_pred, model_name, feats_to_test)\n",
    "            roc_auc_stat = stats.loc[0,'test_roc_auc']\n",
    "\n",
    "            if roc_auc_stat > best_model_roc_auc:\n",
    "\n",
    "                best_model_roc_auc = roc_auc_stat \n",
    "                prop_feats = feats_to_test\n",
    "                \n",
    "        best_model_feats = prop_feats"
   ]
  },
  {
   "cell_type": "markdown",
   "id": "905de07f",
   "metadata": {},
   "source": [
    "## 5. Run Models"
   ]
  },
  {
   "cell_type": "code",
   "execution_count": 8,
   "id": "97ceb7a9",
   "metadata": {},
   "outputs": [],
   "source": [
    "# define starting features\n",
    "def starting_features(data):\n",
    "    features = []\n",
    "    for i in data.columns:\n",
    "        if i != 'Loan_Status' and i != 'Gender':\n",
    "            features.append(i)\n",
    "    return features"
   ]
  },
  {
   "cell_type": "code",
   "execution_count": 9,
   "id": "c775df1f",
   "metadata": {},
   "outputs": [],
   "source": [
    "starting_features = starting_features(df)"
   ]
  },
  {
   "cell_type": "code",
   "execution_count": 11,
   "id": "4a6187ce",
   "metadata": {},
   "outputs": [
    {
     "name": "stdout",
     "output_type": "stream",
     "text": [
      "There is no CSV called results.csv\n"
     ]
    }
   ],
   "source": [
    "# run logistic regression model\n",
    "forward_selection(LogisticRegression(max_iter = 500), df, starting_features, 'Loan_Status', 'Logistic Regression')"
   ]
  },
  {
   "cell_type": "code",
   "execution_count": 12,
   "id": "c385784b",
   "metadata": {},
   "outputs": [],
   "source": [
    "# run random forest regression model\n",
    "'''\n",
    "You need a bit more than 8GB RAM for predicting 2 classes with 256 trees.\n",
    "Of course, you can use a lower number, but gradually you'll notice worse performance.\n",
    "'''\n",
    "forward_selection(RandomForestClassifier(n_estimators=256), df, starting_features, 'Loan_Status', 'Random Forest Classifier')"
   ]
  },
  {
   "cell_type": "markdown",
   "id": "a563dd14",
   "metadata": {},
   "source": [
    "Based on 'results.csv', the Random Forest Classifier performed best with the following features:<br>\n",
    "- 'Credit_History'\n",
    "- 'Married'\n",
    "- 'Applicant_Income(total yearly)_to_Loan_Amount(total)'\n",
    "\n",
    "The roc auc on this model was 0.7115\n",
    "\n",
    "First, let's make sure our training results were similar and that our model is not overfit."
   ]
  },
  {
   "cell_type": "code",
   "execution_count": 13,
   "id": "9063a8e5",
   "metadata": {},
   "outputs": [],
   "source": [
    "# select features from top performing model\n",
    "features = ['Credit_History', 'Married','Applicant_Income(total yearly)_to_Loan_Amount(total)']"
   ]
  },
  {
   "cell_type": "code",
   "execution_count": 14,
   "id": "bc34d992",
   "metadata": {},
   "outputs": [],
   "source": [
    "# get test/train data\n",
    "test_train_RF_Classifier = set_train_test(data = df, input_seed = 1, pct_test = 0.2)"
   ]
  },
  {
   "cell_type": "code",
   "execution_count": 17,
   "id": "994f7cde",
   "metadata": {},
   "outputs": [],
   "source": [
    "# run evaluate_model and save returned model as new variable\n",
    "RF_Class_model = evaluate_model(input_name = 'test_RF_Class', input_model = RandomForestClassifier(n_estimators=256) , training_data=test_train_RF_Classifier[0], testing_data=test_train_RF_Classifier[1], features=features, target='Loan_Status')"
   ]
  },
  {
   "cell_type": "code",
   "execution_count": 18,
   "id": "cb52f792",
   "metadata": {},
   "outputs": [],
   "source": [
    "# define X_train\n",
    "X_train = test_train_RF_Classifier[0][features]\n",
    "\n",
    "# define y predicted for the training data\n",
    "y_pred_train = RF_Class_model.predict(X_train)\n",
    "\n",
    "# define y actual for the training data\n",
    "y_actual_train = test_train_RF_Classifier[0]['Loan_Status']"
   ]
  },
  {
   "cell_type": "code",
   "execution_count": 19,
   "id": "10f1383b",
   "metadata": {},
   "outputs": [
    {
     "data": {
      "text/plain": [
       "1.0"
      ]
     },
     "execution_count": 19,
     "metadata": {},
     "output_type": "execute_result"
    }
   ],
   "source": [
    "# calculate roc auc for train data\n",
    "train_roc_auc = roc_auc_score(y_actual_train, y_pred_train)\n",
    "train_roc_auc"
   ]
  },
  {
   "cell_type": "markdown",
   "id": "1e6eeaf1",
   "metadata": {},
   "source": [
    "The train_roc_auc = 1 suggests our model is overfit to the training data. As a way to avoid overfit in Random Forest models, we can prune the decision trees. In the hyperparameters this is reducing the 'max_depth'.\n",
    "\n",
    "Additionally, I will reduce the number of variables samples at each split."
   ]
  },
  {
   "cell_type": "code",
   "execution_count": 20,
   "id": "0b68ceac",
   "metadata": {},
   "outputs": [],
   "source": [
    "forward_selection(RandomForestClassifier(n_estimators=256, max_depth = 5, max_features = .5), df, starting_features, 'Loan_Status', 'Random Forest Classifier Hyperparameter')"
   ]
  },
  {
   "cell_type": "markdown",
   "id": "bb1fafeb",
   "metadata": {},
   "source": [
    "After adjusting the hyperparameters. The model now performs slightly better with a roc auc or 0.7144 and the following features:\n",
    "- 'Credit_History'\n",
    "- 'Applicant_Income(total yearly)_to_Loan_Amount(total)'\n",
    "- 'Dependents'\n",
    "- 'Education'"
   ]
  },
  {
   "cell_type": "code",
   "execution_count": 59,
   "id": "f495d65c",
   "metadata": {},
   "outputs": [
    {
     "data": {
      "text/plain": [
       "0.7159093451462066"
      ]
     },
     "execution_count": 59,
     "metadata": {},
     "output_type": "execute_result"
    }
   ],
   "source": [
    "# select features from top performing model\n",
    "features = ['Credit_History', 'Applicant_Income(total yearly)_to_Loan_Amount(total)', 'Dependents','Education']\n",
    "\n",
    "# get test/train data\n",
    "test_train_RF_Classifier_Hyperparameter = set_train_test(data = df, input_seed = 1, pct_test = 0.2)\n",
    "\n",
    "# run evaluate_model and save returned model as new variable\n",
    "RF_Class__Hyperparameter_model = evaluate_model(input_name = 'test_RF_hyper_Class', input_model = RandomForestClassifier(n_estimators=256, max_depth = 5, max_features = .5), training_data=test_train_RF_Classifier_Hyperparameter[0], testing_data=test_train_RF_Classifier_Hyperparameter[1], features=features, target='Loan_Status')\n",
    "\n",
    "# define X_train\n",
    "X_train = test_train_RF_Classifier_Hyperparameter[0][features]\n",
    "\n",
    "# define y predicted for the training data\n",
    "y_pred_train = RF_Class__Hyperparameter_model.predict(X_train)\n",
    "\n",
    "# define y actual for the training data\n",
    "y_actual_train = test_train_RF_Classifier_Hyperparameter[0]['Loan_Status']\n",
    "\n",
    "# calculate roc auc for train data\n",
    "train_roc_auc = roc_auc_score(y_actual_train, y_pred_train)\n",
    "train_roc_auc"
   ]
  },
  {
   "cell_type": "markdown",
   "id": "15b03d51",
   "metadata": {},
   "source": [
    "This model performs about the same for our test and train data, indicating it is not overfit.\n",
    "\n",
    "Other evaluation statistics for this model are as follows:\n",
    "- accuracy: 0.8261\n",
    "- precision: .8080\n",
    "- recall: .9877\n",
    "- f1: 0.8888\n",
    "\n",
    "These results are satisfactory for our purposes."
   ]
  },
  {
   "cell_type": "markdown",
   "id": "63b1e061",
   "metadata": {},
   "source": [
    "### 5a) Explore Feature Importance"
   ]
  },
  {
   "cell_type": "code",
   "execution_count": 71,
   "id": "90239115",
   "metadata": {},
   "outputs": [],
   "source": [
    "# feature importance \n",
    "def plot_feature_importance(importance,names,model_type):\n",
    "\n",
    "    #Create arrays from feature importance and feature names\n",
    "    feature_importance = np.array(importance)\n",
    "    feature_names = np.array(names)\n",
    "\n",
    "    #Create a DataFrame using a Dictionary\n",
    "    data={'feature_names':feature_names,'feature_importance':feature_importance}\n",
    "    fi_df = pd.DataFrame(data)\n",
    "\n",
    "    #Sort the DataFrame in order decreasing feature importance\n",
    "    fi_df.sort_values(by=['feature_importance'], ascending=False,inplace=True)\n",
    "\n",
    "    #Define size of bar plot\n",
    "    plt.figure(figsize=(10,8))\n",
    "    #Plot Searborn bar chart\n",
    "    sns.barplot(x=fi_df['feature_importance'], y=fi_df['feature_names'])\n",
    "    #Add chart labels\n",
    "    plt.title(model_type + 'FEATURE IMPORTANCE')\n",
    "    plt.xlabel('FEATURE IMPORTANCE')\n",
    "    plt.ylabel('FEATURE NAMES')"
   ]
  },
  {
   "cell_type": "code",
   "execution_count": 72,
   "id": "897e7b07",
   "metadata": {},
   "outputs": [
    {
     "data": {
      "image/png": "[encoded data removed]",
      "text/plain": [
       "<Figure size 1000x800 with 1 Axes>"
      ]
     },
     "metadata": {},
     "output_type": "display_data"
    }
   ],
   "source": [
    "X = df[features]\n",
    "Y = df['Loan_Status']\n",
    "model = RandomForestClassifier(n_estimators=256, max_depth = 5, max_features = .5)\n",
    "model.fit(X,Y)\n",
    "\n",
    "plot_feature_importance(model.feature_importances_,features,'RANDOM FOREST')"
   ]
  },
  {
   "cell_type": "code",
   "execution_count": 76,
   "id": "6b85674c",
   "metadata": {},
   "outputs": [
    {
     "name": "stderr",
     "output_type": "stream",
     "text": [
      "Exact explainer: 574it [00:35, 12.94it/s]                                                                              \n"
     ]
    },
    {
     "data": {
      "image/png": "[encoded data removed]",
      "text/plain": [
       "<Figure size 800x310 with 2 Axes>"
      ]
     },
     "metadata": {},
     "output_type": "display_data"
    }
   ],
   "source": [
    "y_train =test_train_RF_Classifier_Hyperparameter[0]['Loan_Status']\n",
    "model = RandomForestClassifier(n_estimators=256, max_depth = 5, max_features = .5).fit(X_train,y_train)\n",
    "\n",
    "#Get shap values\n",
    "explainer = shap.Explainer(model.predict, X_train)\n",
    "X_sample = df[features]\n",
    "shap_values = explainer(X_sample)\n",
    "\n",
    "# Beeswarm plot\n",
    "shap.plots.beeswarm(shap_values)"
   ]
  },
  {
   "cell_type": "markdown",
   "id": "18327f84",
   "metadata": {},
   "source": [
    "Our feature importance and shap graphs clearly outline credit_history has the biggest impact on loan_status, followed by total income to loan amount ratio.\n",
    "\n",
    "We see that higher credit history (indicating there is a credit history) impact in a higher model output, where 1 is 'eligible'.\n",
    "\n",
    "For the total income to loan amount ratio, we also note if this value is higher then model output is higher. Note the feature value for this ratio is less than credit_history.\n",
    "\n",
    "Dependents and Education certainly do have impact, but the SHAP value is low, indicating less influence.\n",
    "\n",
    "As it relates to our initial hypothesis of: 'People who are most eligible for home loans have a credit history, education, an employer that is not themselves, and a coapplicant,' it is certainly clear that we were correct about history and in the end that education does have an impact. However, it turns out employer type and presence of coapplicant are not the best predictors for loan status. There was an instinct to create the total income to loan amount ratio, but it's influence in loan status was not expected based on our hypothesis."
   ]
  },
  {
   "cell_type": "markdown",
   "id": "eba458b2",
   "metadata": {},
   "source": [
    "## 6) Run test.csv through model\n",
    "Now, we will clean the test.csv and run our model to see who it predicts in the 'eligible' cateogory!"
   ]
  },
  {
   "cell_type": "markdown",
   "id": "24909560",
   "metadata": {},
   "source": [
    "### 6a) Import test data"
   ]
  },
  {
   "cell_type": "code",
   "execution_count": 23,
   "id": "dba98e73",
   "metadata": {},
   "outputs": [],
   "source": [
    "# import csv\n",
    "test_df = pd.read_csv('../data/test.csv')"
   ]
  },
  {
   "cell_type": "markdown",
   "id": "cb603dd4",
   "metadata": {},
   "source": [
    "### 6b) Clean test data"
   ]
  },
  {
   "cell_type": "code",
   "execution_count": 26,
   "id": "9c2d4401",
   "metadata": {},
   "outputs": [],
   "source": [
    "# clean test data with our function from EDA notebook\n",
    "\n",
    "# create function to drop any rows with nulls values for features where the number of null values is <3% of the total rows in our data\n",
    "def drop_nas(df):\n",
    "    for feature in df.columns:\n",
    "        null_sum = df[feature].isnull().sum()\n",
    "        if null_sum < len(df) * .03 and null_sum != 0:\n",
    "            df.dropna(subset = [feature], inplace = True)\n",
    "    return df\n",
    "\n",
    "# create function to encode object values using label_encoder\n",
    "# leave null values for now until we impute their values\n",
    "def column_encoder(data):\n",
    "    # initiate and define label_encoder\n",
    "    label_encoder = preprocessing.LabelEncoder()\n",
    "    # user label_encoder on features of interest\n",
    "    data['Gender'].loc[data['Gender'].notnull()] = label_encoder.fit_transform(data['Gender'].loc[data['Gender'].notnull()])\n",
    "    data['Married'].loc[data['Married'].notnull()] = label_encoder.fit_transform(data['Married'].loc[data['Married'].notnull()])\n",
    "    data['Dependents'].loc[data['Dependents'].notnull()] = label_encoder.fit_transform(data['Dependents'].loc[data['Dependents'].notnull()])\n",
    "    data['Education'].loc[data['Education'].notnull()] = label_encoder.fit_transform(data['Education'].loc[data['Education'].notnull()])   \n",
    "    data['Self_Employed'].loc[data['Self_Employed'].notnull()] = label_encoder.fit_transform(data['Self_Employed'].loc[data['Self_Employed'].notnull()])\n",
    "    data['Property_Area'].loc[data['Property_Area'].notnull()] = label_encoder.fit_transform(data['Property_Area'].loc[data['Property_Area'].notnull()])\n",
    "    return data\n",
    "\n",
    "# create column denoting if there is a coapplicant through values 0 = N and 1 = Y\n",
    "def coapplicant(data,column):         \n",
    "    Coapplicant = []\n",
    "    for i in data[column]:\n",
    "        if i == 0:\n",
    "            Coapplicant.append(0)\n",
    "        else:\n",
    "            Coapplicant.append(1)\n",
    "    data['Coapplicant'] = Coapplicant\n",
    "    return data\n",
    "\n",
    "# create function to clean data to match process from train.csv EDA\n",
    "# this function assumes we have checked that the test data has the same columns as our train\n",
    "def clean_test(df):\n",
    "    test_clean_df = df.copy()\n",
    "    test_clean_df.drop(columns=['Loan_ID'], inplace=True)\n",
    "    \n",
    "    # call drop_nas\n",
    "    drop_nas(test_clean_df)\n",
    "    \n",
    "    # call column_encoder\n",
    "    column_encoder(test_clean_df)\n",
    "    \n",
    "    # dtypes are still objects from column_encoder, change to int\n",
    "    columns = ['Gender','Married','Dependents','Education','Self_Employed','Property_Area']\n",
    "    test_clean_df[columns] = test_clean_df[columns].apply(pd.to_numeric, errors='coerce')\n",
    "    \n",
    "    # impute Self_Employed nulls to mode if applicable\n",
    "    self_employed_mode = test_clean_df['Self_Employed'].mode()\n",
    "    test_clean_df['Self_Employed'].fillna(value=self_employed_mode.values[0],inplace=True)\n",
    "    \n",
    "    # impute Credit_History nulls to mode if applicable\n",
    "    credit_history_mode = test_clean_df['Credit_History'].mode()\n",
    "    test_clean_df['Credit_History'].fillna(value=credit_history_mode.values[0],inplace=True)\n",
    "    \n",
    "    # impute LoanAmount nulls to median if applicable\n",
    "    loan_amount_median = test_clean_df['LoanAmount'].median()\n",
    "    test_clean_df['LoanAmount'].fillna(value=loan_amount_median,inplace=True)\n",
    "    \n",
    "    # rename loan term column to include it's measurement - months\n",
    "    test_clean_df.rename(columns = {'Loan_Amount_Term':'Loan_Amount_Term_Months'}, inplace = True)\n",
    "    \n",
    "    # new variable for applicant total income / loan amount\n",
    "    # create new value for applicant income to loan amount\n",
    "    test_clean_df['Applicant_Income(total yearly)_to_Loan_Amount(total)'] = (((test_clean_df['ApplicantIncome']*12) + (test_clean_df['CoapplicantIncome']*12)) / (test_clean_df['LoanAmount']*1000))\n",
    "    \n",
    "    # call coapplicant\n",
    "    coapplicant(test_clean_df,'CoapplicantIncome')\n",
    "    \n",
    "    # remove unecessary columns that are now represented in the two columns we just created\n",
    "    # drop ApplicantIncome_Monthly and LoanAmount_Thousands from df\n",
    "    test_clean_df.drop(columns = ['ApplicantIncome','CoapplicantIncome','LoanAmount'],inplace = True)\n",
    "    \n",
    "    # other cleaning outside of EDA notebook activity to ensure values are valid\n",
    "    # check that Gender, Married, Education, Self Employed values are 0 or 1\n",
    "    columns = ['Gender','Married','Education','Self_Employed']\n",
    "    for feature in columns:\n",
    "        for i in test_clean_df[feature]:\n",
    "            test_clean_df.drop(test_clean_df.loc[(test_clean_df[feature] < 0) | (test_clean_df[feature] > 1)].index, inplace=True)\n",
    "     \n",
    "    # drop values for Dependents outside of 0-3\n",
    "    test_clean_df.drop(test_clean_df.loc[(test_clean_df['Dependents'] < 0) | (test_clean_df['Dependents'] > 3)].index, inplace=True)\n",
    "    \n",
    "    # drop values for Property_Area outside 0-2\n",
    "    test_clean_df.drop(test_clean_df.loc[(test_clean_df['Property_Area'] < 0) | (test_clean_df['Property_Area'] > 2)].index, inplace=True)\n",
    "    \n",
    "    # drop Loan_Amount_Term < 0 and > 480 (40 years)\n",
    "    test_clean_df.drop(test_clean_df.loc[(test_clean_df['Loan_Amount_Term_Months'] < 0) | (test_clean_df['Loan_Amount_Term_Months'] > 480)].index, inplace=True)\n",
    "    \n",
    "    # drop income / loan amount ratio < 0\n",
    "    test_clean_df.drop(test_clean_df.loc[test_clean_df['Applicant_Income(total yearly)_to_Loan_Amount(total)'] < 0].index, inplace=True)\n",
    "    \n",
    "    return test_clean_df"
   ]
  },
  {
   "cell_type": "code",
   "execution_count": 29,
   "id": "f318959c",
   "metadata": {},
   "outputs": [
    {
     "name": "stderr",
     "output_type": "stream",
     "text": [
      "\n",
      "A value is trying to be set on a copy of a slice from a DataFrame\n",
      "\n",
      "See the caveats in the documentation: https://pandas.pydata.org/pandas-docs/stable/user_guide/indexing.html#returning-a-view-versus-a-copy\n",
      "\n",
      "A value is trying to be set on a copy of a slice from a DataFrame\n",
      "\n",
      "See the caveats in the documentation: https://pandas.pydata.org/pandas-docs/stable/user_guide/indexing.html#returning-a-view-versus-a-copy\n",
      "\n",
      "A value is trying to be set on a copy of a slice from a DataFrame\n",
      "\n",
      "See the caveats in the documentation: https://pandas.pydata.org/pandas-docs/stable/user_guide/indexing.html#returning-a-view-versus-a-copy\n",
      "\n",
      "A value is trying to be set on a copy of a slice from a DataFrame\n",
      "\n",
      "See the caveats in the documentation: https://pandas.pydata.org/pandas-docs/stable/user_guide/indexing.html#returning-a-view-versus-a-copy\n",
      "\n",
      "A value is trying to be set on a copy of a slice from a DataFrame\n",
      "\n",
      "See the caveats in the documentation: https://pandas.pydata.org/pandas-docs/stable/user_guide/indexing.html#returning-a-view-versus-a-copy\n",
      "\n",
      "A value is trying to be set on a copy of a slice from a DataFrame\n",
      "\n",
      "See the caveats in the documentation: https://pandas.pydata.org/pandas-docs/stable/user_guide/indexing.html#returning-a-view-versus-a-copy\n"
     ]
    }
   ],
   "source": [
    "df_test_clean = clean_test(test_df)"
   ]
  },
  {
   "cell_type": "code",
   "execution_count": 30,
   "id": "cd31bc39",
   "metadata": {},
   "outputs": [
    {
     "data": {
      "text/html": [
       "<div>\n",
       "<style scoped>\n",
       "    .dataframe tbody tr th:only-of-type {\n",
       "        vertical-align: middle;\n",
       "    }\n",
       "\n",
       "    .dataframe tbody tr th {\n",
       "        vertical-align: top;\n",
       "    }\n",
       "\n",
       "    .dataframe thead th {\n",
       "        text-align: right;\n",
       "    }\n",
       "</style>\n",
       "<table border=\"1\" class=\"dataframe\">\n",
       "  <thead>\n",
       "    <tr style=\"text-align: right;\">\n",
       "      <th></th>\n",
       "      <th>Gender</th>\n",
       "      <th>Married</th>\n",
       "      <th>Dependents</th>\n",
       "      <th>Education</th>\n",
       "      <th>Self_Employed</th>\n",
       "      <th>Loan_Amount_Term_Months</th>\n",
       "      <th>Credit_History</th>\n",
       "      <th>Property_Area</th>\n",
       "      <th>Applicant_Income(total yearly)_to_Loan_Amount(total)</th>\n",
       "      <th>Coapplicant</th>\n",
       "    </tr>\n",
       "  </thead>\n",
       "  <tbody>\n",
       "    <tr>\n",
       "      <th>0</th>\n",
       "      <td>1</td>\n",
       "      <td>1</td>\n",
       "      <td>0</td>\n",
       "      <td>0</td>\n",
       "      <td>0.0</td>\n",
       "      <td>360.0</td>\n",
       "      <td>1.0</td>\n",
       "      <td>2</td>\n",
       "      <td>0.624000</td>\n",
       "      <td>0</td>\n",
       "    </tr>\n",
       "    <tr>\n",
       "      <th>1</th>\n",
       "      <td>1</td>\n",
       "      <td>1</td>\n",
       "      <td>1</td>\n",
       "      <td>0</td>\n",
       "      <td>0.0</td>\n",
       "      <td>360.0</td>\n",
       "      <td>1.0</td>\n",
       "      <td>2</td>\n",
       "      <td>0.435810</td>\n",
       "      <td>1</td>\n",
       "    </tr>\n",
       "    <tr>\n",
       "      <th>2</th>\n",
       "      <td>1</td>\n",
       "      <td>1</td>\n",
       "      <td>2</td>\n",
       "      <td>0</td>\n",
       "      <td>0.0</td>\n",
       "      <td>360.0</td>\n",
       "      <td>1.0</td>\n",
       "      <td>2</td>\n",
       "      <td>0.392308</td>\n",
       "      <td>1</td>\n",
       "    </tr>\n",
       "    <tr>\n",
       "      <th>3</th>\n",
       "      <td>1</td>\n",
       "      <td>1</td>\n",
       "      <td>2</td>\n",
       "      <td>0</td>\n",
       "      <td>0.0</td>\n",
       "      <td>360.0</td>\n",
       "      <td>1.0</td>\n",
       "      <td>2</td>\n",
       "      <td>0.586320</td>\n",
       "      <td>1</td>\n",
       "    </tr>\n",
       "    <tr>\n",
       "      <th>4</th>\n",
       "      <td>1</td>\n",
       "      <td>0</td>\n",
       "      <td>0</td>\n",
       "      <td>1</td>\n",
       "      <td>0.0</td>\n",
       "      <td>360.0</td>\n",
       "      <td>1.0</td>\n",
       "      <td>2</td>\n",
       "      <td>0.504000</td>\n",
       "      <td>0</td>\n",
       "    </tr>\n",
       "    <tr>\n",
       "      <th>...</th>\n",
       "      <td>...</td>\n",
       "      <td>...</td>\n",
       "      <td>...</td>\n",
       "      <td>...</td>\n",
       "      <td>...</td>\n",
       "      <td>...</td>\n",
       "      <td>...</td>\n",
       "      <td>...</td>\n",
       "      <td>...</td>\n",
       "      <td>...</td>\n",
       "    </tr>\n",
       "    <tr>\n",
       "      <th>362</th>\n",
       "      <td>1</td>\n",
       "      <td>1</td>\n",
       "      <td>3</td>\n",
       "      <td>1</td>\n",
       "      <td>1.0</td>\n",
       "      <td>360.0</td>\n",
       "      <td>1.0</td>\n",
       "      <td>2</td>\n",
       "      <td>0.614442</td>\n",
       "      <td>1</td>\n",
       "    </tr>\n",
       "    <tr>\n",
       "      <th>363</th>\n",
       "      <td>1</td>\n",
       "      <td>1</td>\n",
       "      <td>0</td>\n",
       "      <td>0</td>\n",
       "      <td>0.0</td>\n",
       "      <td>360.0</td>\n",
       "      <td>1.0</td>\n",
       "      <td>2</td>\n",
       "      <td>0.507861</td>\n",
       "      <td>1</td>\n",
       "    </tr>\n",
       "    <tr>\n",
       "      <th>364</th>\n",
       "      <td>1</td>\n",
       "      <td>0</td>\n",
       "      <td>0</td>\n",
       "      <td>0</td>\n",
       "      <td>0.0</td>\n",
       "      <td>360.0</td>\n",
       "      <td>1.0</td>\n",
       "      <td>1</td>\n",
       "      <td>0.499333</td>\n",
       "      <td>1</td>\n",
       "    </tr>\n",
       "    <tr>\n",
       "      <th>365</th>\n",
       "      <td>1</td>\n",
       "      <td>1</td>\n",
       "      <td>0</td>\n",
       "      <td>0</td>\n",
       "      <td>0.0</td>\n",
       "      <td>360.0</td>\n",
       "      <td>1.0</td>\n",
       "      <td>0</td>\n",
       "      <td>0.561494</td>\n",
       "      <td>1</td>\n",
       "    </tr>\n",
       "    <tr>\n",
       "      <th>366</th>\n",
       "      <td>1</td>\n",
       "      <td>0</td>\n",
       "      <td>0</td>\n",
       "      <td>0</td>\n",
       "      <td>1.0</td>\n",
       "      <td>180.0</td>\n",
       "      <td>1.0</td>\n",
       "      <td>0</td>\n",
       "      <td>1.126531</td>\n",
       "      <td>0</td>\n",
       "    </tr>\n",
       "  </tbody>\n",
       "</table>\n",
       "<p>337 rows × 10 columns</p>\n",
       "</div>"
      ],
      "text/plain": [
       "     Gender  Married  Dependents  Education  Self_Employed  \\\n",
       "0         1        1           0          0            0.0   \n",
       "1         1        1           1          0            0.0   \n",
       "2         1        1           2          0            0.0   \n",
       "3         1        1           2          0            0.0   \n",
       "4         1        0           0          1            0.0   \n",
       "..      ...      ...         ...        ...            ...   \n",
       "362       1        1           3          1            1.0   \n",
       "363       1        1           0          0            0.0   \n",
       "364       1        0           0          0            0.0   \n",
       "365       1        1           0          0            0.0   \n",
       "366       1        0           0          0            1.0   \n",
       "\n",
       "     Loan_Amount_Term_Months  Credit_History  Property_Area  \\\n",
       "0                      360.0             1.0              2   \n",
       "1                      360.0             1.0              2   \n",
       "2                      360.0             1.0              2   \n",
       "3                      360.0             1.0              2   \n",
       "4                      360.0             1.0              2   \n",
       "..                       ...             ...            ...   \n",
       "362                    360.0             1.0              2   \n",
       "363                    360.0             1.0              2   \n",
       "364                    360.0             1.0              1   \n",
       "365                    360.0             1.0              0   \n",
       "366                    180.0             1.0              0   \n",
       "\n",
       "     Applicant_Income(total yearly)_to_Loan_Amount(total)  Coapplicant  \n",
       "0                                             0.624000               0  \n",
       "1                                             0.435810               1  \n",
       "2                                             0.392308               1  \n",
       "3                                             0.586320               1  \n",
       "4                                             0.504000               0  \n",
       "..                                                 ...             ...  \n",
       "362                                           0.614442               1  \n",
       "363                                           0.507861               1  \n",
       "364                                           0.499333               1  \n",
       "365                                           0.561494               1  \n",
       "366                                           1.126531               0  \n",
       "\n",
       "[337 rows x 10 columns]"
      ]
     },
     "execution_count": 30,
     "metadata": {},
     "output_type": "execute_result"
    }
   ],
   "source": [
    "# view results\n",
    "df_test_clean"
   ]
  },
  {
   "cell_type": "markdown",
   "id": "4bcab1dc",
   "metadata": {},
   "source": [
    "Our cleaning took off 30 rows of data."
   ]
  },
  {
   "cell_type": "markdown",
   "id": "bdd7a356",
   "metadata": {},
   "source": [
    "### 6c) run clean test data through our top performing model"
   ]
  },
  {
   "cell_type": "code",
   "execution_count": 38,
   "id": "31aff692",
   "metadata": {},
   "outputs": [
    {
     "name": "stderr",
     "output_type": "stream",
     "text": [
      "\n",
      "A value is trying to be set on a copy of a slice from a DataFrame.\n",
      "Try using .loc[row_indexer,col_indexer] = value instead\n",
      "\n",
      "See the caveats in the documentation: https://pandas.pydata.org/pandas-docs/stable/user_guide/indexing.html#returning-a-view-versus-a-copy\n"
     ]
    }
   ],
   "source": [
    "# use features from top performing model\n",
    "# select features from top performing model\n",
    "features = ['Credit_History', 'Applicant_Income(total yearly)_to_Loan_Amount(total)', 'Dependents','Education']\n",
    "\n",
    "# get test/train data\n",
    "train_data = df\n",
    "train_data_x = df[features]\n",
    "train_data_y = df['Loan_Status']\n",
    "test_data = df_test_clean[features]\n",
    "\n",
    "# train model\n",
    "model = RandomForestClassifier(n_estimators=256, max_depth = 5, max_features = .5)\n",
    "model.fit(train_data_x, train_data_y)\n",
    "\n",
    "# validate model\n",
    "test_results = model.predict(test_data)"
   ]
  },
  {
   "cell_type": "code",
   "execution_count": 44,
   "id": "dcd9fb8c",
   "metadata": {},
   "outputs": [
    {
     "data": {
      "text/plain": [
       "array([1, 1, 1, 1, 1, 1, 1, 0, 1, 1, 1, 0, 1, 0, 1, 1, 1, 1, 1, 1, 1, 1,\n",
       "       1, 1, 0, 1, 1, 1, 1, 1, 1, 1, 1, 1, 0, 1, 1, 1, 1, 1, 1, 1, 1, 1,\n",
       "       1, 1, 1, 1, 1, 1, 0, 1, 1, 0, 1, 1, 1, 0, 0, 1, 1, 0, 0, 1, 0, 1,\n",
       "       1, 1, 1, 1, 1, 1, 1, 0, 1, 0, 1, 0, 1, 1, 1, 1, 0, 1, 1, 1, 1, 0,\n",
       "       1, 1, 1, 1, 1, 1, 1, 1, 1, 0, 1, 1, 1, 1, 1, 1, 1, 1, 0, 0, 0, 1,\n",
       "       1, 1, 0, 0, 1, 0, 1, 1, 1, 0, 1, 1, 1, 1, 1, 1, 1, 0, 1, 0, 1, 1,\n",
       "       1, 1, 0, 1, 1, 1, 1, 1, 0, 1, 1, 1, 1, 1, 1, 1, 0, 1, 1, 1, 0, 0,\n",
       "       1, 0, 1, 1, 1, 1, 0, 0, 1, 1, 1, 1, 1, 1, 1, 1, 1, 1, 1, 1, 1, 1,\n",
       "       1, 0, 0, 1, 1, 0, 1, 0, 1, 1, 1, 1, 1, 1, 1, 1, 1, 1, 0, 1, 1, 1,\n",
       "       1, 1, 1, 1, 1, 1, 1, 1, 0, 1, 1, 1, 1, 0, 1, 1, 1, 1, 0, 0, 1, 1,\n",
       "       1, 1, 0, 1, 0, 1, 1, 1, 1, 0, 1, 1, 1, 0, 1, 1, 1, 1, 1, 1, 1, 1,\n",
       "       0, 0, 1, 0, 1, 1, 1, 1, 0, 0, 1, 1, 1, 0, 1, 1, 1, 1, 1, 1, 1, 1,\n",
       "       1, 1, 1, 1, 0, 1, 1, 1, 1, 1, 1, 0, 1, 0, 1, 1, 1, 1, 1, 0, 1, 1,\n",
       "       1, 1, 0, 1, 1, 0, 1, 1, 1, 0, 1, 1, 1, 1, 1, 1, 1, 1, 1, 1, 1, 1,\n",
       "       1, 0, 1, 1, 1, 1, 1, 1, 0, 1, 1, 0, 1, 1, 1, 1, 0, 1, 1, 1, 1, 1,\n",
       "       1, 1, 1, 1, 1, 1, 1], dtype=int64)"
      ]
     },
     "execution_count": 44,
     "metadata": {},
     "output_type": "execute_result"
    }
   ],
   "source": [
    "# print test results\n",
    "test_results"
   ]
  },
  {
   "cell_type": "code",
   "execution_count": null,
   "id": "d9e8d781",
   "metadata": {},
   "outputs": [],
   "source": []
  }
 ],
 "metadata": {
  "kernelspec": {
   "display_name": "Python 3 (ipykernel)",
   "language": "python",
   "name": "python3"
  },
  "language_info": {
   "codemirror_mode": {
    "name": "ipython",
    "version": 3
   },
   "file_extension": ".py",
   "mimetype": "text/x-python",
   "name": "python",
   "nbconvert_exporter": "python",
   "pygments_lexer": "ipython3",
   "version": "3.9.13"
  }
 },
 "nbformat": 4,
 "nbformat_minor": 5
}
